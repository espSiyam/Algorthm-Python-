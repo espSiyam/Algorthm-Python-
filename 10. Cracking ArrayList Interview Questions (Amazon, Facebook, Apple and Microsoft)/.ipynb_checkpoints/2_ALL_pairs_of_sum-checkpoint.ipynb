{
 "cells": [
  {
   "cell_type": "markdown",
   "metadata": {},
   "source": [
    "### LeetCode 1\n",
    "### Finad all pairs of integers(from list) whose sum is equal to a given number\n",
    "[2,6,3,9,11]\n",
    "\n",
    "n = 9\n",
    "\n",
    "pair is [6,3]"
   ]
  },
  {
   "cell_type": "code",
   "execution_count": 8,
   "metadata": {},
   "outputs": [
    {
     "name": "stdout",
     "output_type": "stream",
     "text": [
      "2 7\n"
     ]
    }
   ],
   "source": [
    "def findPairs(nums, target):\n",
    "    for i in range(len(nums)):\n",
    "        for j in range(i+1, len(nums)):\n",
    "            if nums[i] == nums[j]:       #To avoid consequtive vales like(1,1),(2,2,),(3,3) etc.\n",
    "                continue\n",
    "            elif nums[i]+nums[j] == target:\n",
    "                print(nums[i], nums[j])\n",
    "\n",
    "\n",
    "mylist = [2,7,11,15]\n",
    "findPairs(mylist, 9)"
   ]
  },
  {
   "cell_type": "code",
   "execution_count": 7,
   "metadata": {},
   "outputs": [
    {
     "name": "stdout",
     "output_type": "stream",
     "text": [
      "2 7\n"
     ]
    }
   ],
   "source": [
    "mylist = [2,7,11,15]\n",
    "target = 9\n",
    "\n",
    "for i in range(len(mylist)):\n",
    "    for j in range(i+1, len(mylist)):\n",
    "        if(mylist[i]+mylist[j] == target):\n",
    "            print(mylist[i], mylist[j])\n"
   ]
  },
  {
   "cell_type": "code",
   "execution_count": null,
   "metadata": {},
   "outputs": [],
   "source": []
  }
 ],
 "metadata": {
  "kernelspec": {
   "display_name": "Python 3",
   "language": "python",
   "name": "python3"
  },
  "language_info": {
   "codemirror_mode": {
    "name": "ipython",
    "version": 3
   },
   "file_extension": ".py",
   "mimetype": "text/x-python",
   "name": "python",
   "nbconvert_exporter": "python",
   "pygments_lexer": "ipython3",
   "version": "3.7.7"
  }
 },
 "nbformat": 4,
 "nbformat_minor": 4
}
