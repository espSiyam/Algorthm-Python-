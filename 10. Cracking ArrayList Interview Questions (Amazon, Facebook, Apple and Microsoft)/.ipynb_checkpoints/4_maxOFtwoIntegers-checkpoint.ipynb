{
 "cells": [
  {
   "cell_type": "code",
   "execution_count": 8,
   "metadata": {},
   "outputs": [
    {
     "name": "stdout",
     "output_type": "stream",
     "text": [
      "Pair is:  (57, 58)\n"
     ]
    }
   ],
   "source": [
    "import numpy as np\n",
    "myArray = np.array([1,20,30,44,5,56,57, 8,9,10,31,12,13,14,35,16,27,58,19,21])\n",
    "\n",
    "def maxProduct(array):\n",
    "    maxProduct = 0\n",
    "    for i in range(len(array)):\n",
    "        for j in range(i+1, len(array)):\n",
    "            if (array[i]*array[j]) > maxProduct:\n",
    "                maxProduct = array[i]*array[j]\n",
    "                pairs = array[i], array[j]\n",
    "    print(\"Pair is: \",pairs )\n",
    "                \n",
    "maxProduct(myArray)"
   ]
  },
  {
   "cell_type": "code",
   "execution_count": null,
   "metadata": {},
   "outputs": [],
   "source": []
  }
 ],
 "metadata": {
  "kernelspec": {
   "display_name": "Python 3",
   "language": "python",
   "name": "python3"
  },
  "language_info": {
   "codemirror_mode": {
    "name": "ipython",
    "version": 3
   },
   "file_extension": ".py",
   "mimetype": "text/x-python",
   "name": "python",
   "nbconvert_exporter": "python",
   "pygments_lexer": "ipython3",
   "version": "3.7.7"
  }
 },
 "nbformat": 4,
 "nbformat_minor": 4
}
