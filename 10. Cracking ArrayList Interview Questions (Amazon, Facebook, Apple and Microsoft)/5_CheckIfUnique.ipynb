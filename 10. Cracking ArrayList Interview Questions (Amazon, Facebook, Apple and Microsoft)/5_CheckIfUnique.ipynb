{
 "cells": [
  {
   "cell_type": "code",
   "execution_count": 3,
   "metadata": {},
   "outputs": [
    {
     "data": {
      "text/plain": [
       "True"
      ]
     },
     "execution_count": 3,
     "metadata": {},
     "output_type": "execute_result"
    }
   ],
   "source": [
    "import numpy as np\n",
    "myList = [1,20,30,44,5,56,57, 8,9,10,31,12,13,14,35,16,27,58,19,21]\n",
    "\n",
    "def CheckQunue(list):\n",
    "    temp = []\n",
    "    for i in list:\n",
    "        if i in temp:\n",
    "            print(i)\n",
    "            return False\n",
    "        else:\n",
    "            temp.append(i)\n",
    "    return True\n",
    "    \n",
    "CheckQunue(myList)"
   ]
  },
  {
   "cell_type": "code",
   "execution_count": null,
   "metadata": {},
   "outputs": [],
   "source": []
  }
 ],
 "metadata": {
  "kernelspec": {
   "display_name": "Python 3",
   "language": "python",
   "name": "python3"
  },
  "language_info": {
   "codemirror_mode": {
    "name": "ipython",
    "version": 3
   },
   "file_extension": ".py",
   "mimetype": "text/x-python",
   "name": "python",
   "nbconvert_exporter": "python",
   "pygments_lexer": "ipython3",
   "version": "3.7.7"
  }
 },
 "nbformat": 4,
 "nbformat_minor": 4
}
