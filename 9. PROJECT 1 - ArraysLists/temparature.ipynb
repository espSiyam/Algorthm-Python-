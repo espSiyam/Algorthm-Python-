{
 "cells": [
  {
   "cell_type": "code",
   "execution_count": 16,
   "metadata": {},
   "outputs": [
    {
     "name": "stdin",
     "output_type": "stream",
     "text": [
      "Number of days:  4\n",
      "Day 1 temp:  1\n",
      "Day 2 temp:  2\n",
      "Day 3 temp:  4\n",
      "Day 4 temp:  5\n"
     ]
    },
    {
     "name": "stdout",
     "output_type": "stream",
     "text": [
      "\n",
      "Average temo is: 3.0\n",
      "\n",
      "More than average Days is: 2\n"
     ]
    }
   ],
   "source": [
    "numDays = int(input(\"Number of days: \"))\n",
    "\n",
    "total = 0\n",
    "temp = []\n",
    "for i in range(numDays):\n",
    "    eachDay = int(input(\"Day \"+str(i+1)+\" temp: \"))\n",
    "    temp.append(eachDay)\n",
    "    total += temp[i]\n",
    "\n",
    "avg = round(total/numDays,2)\n",
    "print(\"\\nAverage temo is: \"+str(avg))\n",
    "above = 0\n",
    "for i in temp:\n",
    "    if i > avg:\n",
    "        above += 1\n",
    "print(\"\\nMore than average Days is: \"+str(above))"
   ]
  },
  {
   "cell_type": "code",
   "execution_count": null,
   "metadata": {},
   "outputs": [],
   "source": []
  }
 ],
 "metadata": {
  "kernelspec": {
   "display_name": "Python 3",
   "language": "python",
   "name": "python3"
  },
  "language_info": {
   "codemirror_mode": {
    "name": "ipython",
    "version": 3
   },
   "file_extension": ".py",
   "mimetype": "text/x-python",
   "name": "python",
   "nbconvert_exporter": "python",
   "pygments_lexer": "ipython3",
   "version": "3.7.7"
  }
 },
 "nbformat": 4,
 "nbformat_minor": 4
}
